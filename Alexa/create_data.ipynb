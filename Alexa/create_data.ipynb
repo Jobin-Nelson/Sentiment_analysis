{
 "cells": [
  {
   "cell_type": "code",
   "execution_count": 2,
   "metadata": {},
   "outputs": [],
   "source": [
    "import pandas as pd\n",
    "\n",
    "import spacy\n",
    "from spacy.tokens import DocBin"
   ]
  },
  {
   "cell_type": "code",
   "execution_count": 3,
   "metadata": {},
   "outputs": [
    {
     "data": {
      "text/html": [
       "<div>\n",
       "<style scoped>\n",
       "    .dataframe tbody tr th:only-of-type {\n",
       "        vertical-align: middle;\n",
       "    }\n",
       "\n",
       "    .dataframe tbody tr th {\n",
       "        vertical-align: top;\n",
       "    }\n",
       "\n",
       "    .dataframe thead th {\n",
       "        text-align: right;\n",
       "    }\n",
       "</style>\n",
       "<table border=\"1\" class=\"dataframe\">\n",
       "  <thead>\n",
       "    <tr style=\"text-align: right;\">\n",
       "      <th></th>\n",
       "      <th>name</th>\n",
       "      <th>stars</th>\n",
       "      <th>title</th>\n",
       "      <th>review</th>\n",
       "    </tr>\n",
       "  </thead>\n",
       "  <tbody>\n",
       "    <tr>\n",
       "      <th>0</th>\n",
       "      <td>Parag</td>\n",
       "      <td>1</td>\n",
       "      <td>Very poor sound recognition.</td>\n",
       "      <td>It definitely has better speakers than Eco Dot...</td>\n",
       "    </tr>\n",
       "    <tr>\n",
       "      <th>1</th>\n",
       "      <td>Chinmaya D.</td>\n",
       "      <td>5</td>\n",
       "      <td>My first Smart Speaker</td>\n",
       "      <td>This was launched on 11th and I got the produc...</td>\n",
       "    </tr>\n",
       "    <tr>\n",
       "      <th>2</th>\n",
       "      <td>Vishnu</td>\n",
       "      <td>5</td>\n",
       "      <td>it’s amazing just read my review</td>\n",
       "      <td>The media could not be loaded.  Such an amazin...</td>\n",
       "    </tr>\n",
       "    <tr>\n",
       "      <th>3</th>\n",
       "      <td>Rajiv p.</td>\n",
       "      <td>4</td>\n",
       "      <td>Stunner!</td>\n",
       "      <td>It's totally Paisa wasoolSpeaker is loudShe li...</td>\n",
       "    </tr>\n",
       "    <tr>\n",
       "      <th>4</th>\n",
       "      <td>Aritra Daspoddar</td>\n",
       "      <td>4</td>\n",
       "      <td>A real competition to Google Home mini</td>\n",
       "      <td>At first i was confused which one to buy - Goo...</td>\n",
       "    </tr>\n",
       "  </tbody>\n",
       "</table>\n",
       "</div>"
      ],
      "text/plain": [
       "               name  stars                                   title  \\\n",
       "0             Parag      1            Very poor sound recognition.   \n",
       "1       Chinmaya D.      5                  My first Smart Speaker   \n",
       "2            Vishnu      5        it’s amazing just read my review   \n",
       "3          Rajiv p.      4                                Stunner!   \n",
       "4  Aritra Daspoddar      4  A real competition to Google Home mini   \n",
       "\n",
       "                                              review  \n",
       "0  It definitely has better speakers than Eco Dot...  \n",
       "1  This was launched on 11th and I got the produc...  \n",
       "2  The media could not be loaded.  Such an amazin...  \n",
       "3  It's totally Paisa wasoolSpeaker is loudShe li...  \n",
       "4  At first i was confused which one to buy - Goo...  "
      ]
     },
     "execution_count": 3,
     "metadata": {},
     "output_type": "execute_result"
    }
   ],
   "source": [
    "# Load dataset\n",
    "alexa_rev = pd.read_json('..\\\\scrape_reviews\\\\alexa_reviews.json')\n",
    "alexa_rev.head()"
   ]
  },
  {
   "cell_type": "code",
   "execution_count": 5,
   "metadata": {},
   "outputs": [
    {
     "data": {
      "text/plain": [
       "5    2572\n",
       "4    1028\n",
       "1     633\n",
       "3     498\n",
       "2     269\n",
       "Name: stars, dtype: int64"
      ]
     },
     "execution_count": 5,
     "metadata": {},
     "output_type": "execute_result"
    }
   ],
   "source": [
    "alexa_rev.stars.value_counts(dropna=False)"
   ]
  },
  {
   "cell_type": "code",
   "execution_count": 10,
   "metadata": {},
   "outputs": [
    {
     "data": {
      "text/plain": [
       "5    2572\n",
       "4    1028\n",
       "1     633\n",
       "2     269\n",
       "Name: stars, dtype: int64"
      ]
     },
     "execution_count": 10,
     "metadata": {},
     "output_type": "execute_result"
    }
   ],
   "source": [
    "drop_index = alexa_rev[alexa_rev['stars']==3].index\n",
    "alexa_rev.drop(drop_index, inplace=True)\n",
    "alexa_rev.stars.value_counts(dropna=False)"
   ]
  },
  {
   "cell_type": "code",
   "execution_count": 16,
   "metadata": {},
   "outputs": [
    {
     "data": {
      "text/plain": [
       "(\"It definitely has better speakers than Eco Dot Gen2 and Google Home Mini, but sound recognition is very poor compared to Google Home Mini or even previous Eco Dot. Maybe it has something to do with cost cutting and Amazon going with only 4 far field microphones instead of 7.But due to it's poor recognition, it takes a lot of time, sometimes even minutes and does nothing... Which definitely takes away the experience. Unfortunately I can't return it... But I think Google Home Mini is miles ahead and better with all the new updates to Google Assistant (Sleep assist and stuff).Update as on 27th April 2019: Software has gone from bad to worst. It plays certain songs again and again, doesn't let you skip. Recognition has also gone from bad to worst, you have to yell for Alexa to understand what you want it to do only for it to tell you it doesn't understand what you said. And expect no support from Amazon about eco devices, it's very bad.\",\n",
       " 1)"
      ]
     },
     "execution_count": 16,
     "metadata": {},
     "output_type": "execute_result"
    }
   ],
   "source": [
    "data = list(zip(alexa_rev['review'],alexa_rev['stars']))\n",
    "data[0]"
   ]
  },
  {
   "cell_type": "code",
   "execution_count": 18,
   "metadata": {},
   "outputs": [],
   "source": [
    "def make_docs(data):\n",
    "    docs = []\n",
    "    for doc, label in nlp.pipe(data, as_tuples=True):\n",
    "        if label<3:\n",
    "            doc.cats['POSITIVE'] = 0\n",
    "            doc.cats['NEGATIVE'] = 1\n",
    "        else:\n",
    "            doc.cats['POSITIVE'] = 1\n",
    "            doc.cats['NEGATIVE'] = 0\n",
    "        docs.append(doc)\n",
    "    return docs\n",
    "\n",
    "nlp = spacy.load('en_core_web_sm')"
   ]
  },
  {
   "cell_type": "code",
   "execution_count": 26,
   "metadata": {},
   "outputs": [
    {
     "name": "stdout",
     "output_type": "stream",
     "text": [
      "Size of train data:  2835\n",
      "Size of valid data:  1216\n",
      "Size of test data:  451\n"
     ]
    }
   ],
   "source": [
    "test_size = 10\n",
    "test_split = (len(data)*(100-test_size))//100\n",
    "\n",
    "train_valid_data = data[:test_split]\n",
    "test_data = data[test_split:]\n",
    "\n",
    "valid_size = 30\n",
    "valid_split = (len(train_valid_data)*(100-valid_size))//100\n",
    "\n",
    "train_data = train_valid_data[:valid_split]\n",
    "valid_data = train_valid_data[valid_split:]\n",
    "\n",
    "print('Size of train data: ', len(train_data))\n",
    "print('Size of valid data: ', len(valid_data))\n",
    "print('Size of test data: ', len(test_data))"
   ]
  },
  {
   "cell_type": "code",
   "execution_count": 27,
   "metadata": {},
   "outputs": [],
   "source": [
    "train_docs = make_docs(train_data)\n",
    "doc_bin = DocBin(docs=train_docs)\n",
    "doc_bin.to_disk('input\\\\train.spacy')\n",
    "\n",
    "valid_docs = make_docs(valid_data)\n",
    "doc_bin = DocBin(docs=valid_docs)\n",
    "doc_bin.to_disk('input\\\\valid.spacy')"
   ]
  },
  {
   "cell_type": "code",
   "execution_count": null,
   "metadata": {},
   "outputs": [],
   "source": []
  }
 ],
 "metadata": {
  "interpreter": {
   "hash": "573cf48fd98072e885702c7ae7d411f064c2cf36a1e84379ddd55fc0314ede9c"
  },
  "kernelspec": {
   "display_name": "Python 3.9.0 64-bit ('nlp': conda)",
   "language": "python",
   "name": "python3"
  },
  "language_info": {
   "codemirror_mode": {
    "name": "ipython",
    "version": 3
   },
   "file_extension": ".py",
   "mimetype": "text/x-python",
   "name": "python",
   "nbconvert_exporter": "python",
   "pygments_lexer": "ipython3",
   "version": "3.9.0"
  },
  "orig_nbformat": 4
 },
 "nbformat": 4,
 "nbformat_minor": 2
}
