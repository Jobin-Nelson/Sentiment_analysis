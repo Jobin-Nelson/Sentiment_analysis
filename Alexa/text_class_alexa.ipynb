{
 "cells": [
  {
   "cell_type": "code",
   "execution_count": 31,
   "metadata": {},
   "outputs": [],
   "source": [
    "import pandas as pd\n",
    "import spacy \n",
    "from sklearn.metrics import classification_report, confusion_matrix"
   ]
  },
  {
   "cell_type": "code",
   "execution_count": 32,
   "metadata": {},
   "outputs": [],
   "source": [
    "# Load the dataset\n",
    "alexa_rev = pd.read_json('..\\\\scrape_reviews\\\\alexa_reviews.json')\n",
    "drop_index = alexa_rev[alexa_rev['stars']==3].index\n",
    "alexa_rev = alexa_rev.drop(drop_index).reset_index()\n",
    "data = list(zip(alexa_rev['review'],alexa_rev['stars']))"
   ]
  },
  {
   "cell_type": "code",
   "execution_count": 33,
   "metadata": {},
   "outputs": [],
   "source": [
    "# Loading the best model from the trained models\n",
    "nlp = spacy.load('output\\\\model-best')"
   ]
  },
  {
   "cell_type": "code",
   "execution_count": 34,
   "metadata": {},
   "outputs": [],
   "source": [
    "# creating a function to predict the polarity of review\n",
    "def predict(text):\n",
    "    doc =  nlp(text[0])\n",
    "    print('Actual text:\\n', text)\n",
    "    print('\\nPredicted class:\\n', doc.cats)"
   ]
  },
  {
   "cell_type": "code",
   "execution_count": 35,
   "metadata": {},
   "outputs": [
    {
     "name": "stdout",
     "output_type": "stream",
     "text": [
      "Actual text:\n",
      " ('Sound quality was awesome, ya it works good', 5)\n",
      "\n",
      "Predicted class:\n",
      " {'POSITIVE': 0.909123420715332, 'NEGATIVE': 0.09008251875638962}\n"
     ]
    }
   ],
   "source": [
    "predict(data[4331])"
   ]
  },
  {
   "cell_type": "code",
   "execution_count": 36,
   "metadata": {},
   "outputs": [
    {
     "name": "stdout",
     "output_type": "stream",
     "text": [
      "Actual text:\n",
      " ('I have purchased this order but not fit on my expectation as it is only better for music on voice and set alarm nothing extra feature. Alexa is still not aware with any local indian details like market,Distance or navigation.it was not useful for me.', 2)\n",
      "\n",
      "Predicted class:\n",
      " {'POSITIVE': 0.33145037293434143, 'NEGATIVE': 0.6618508100509644}\n"
     ]
    }
   ],
   "source": [
    "predict(data[4100])"
   ]
  },
  {
   "cell_type": "code",
   "execution_count": 37,
   "metadata": {},
   "outputs": [
    {
     "name": "stdout",
     "output_type": "stream",
     "text": [
      "Actual text:\n",
      " (\"I disliked this product as it does not recognize what I'm saying and it's not responding properly.\", 1)\n",
      "\n",
      "Predicted class: NEGATIVE\n"
     ]
    }
   ],
   "source": [
    "text = data[4500]\n",
    "scores = nlp(text[0]).cats\n",
    "label = max(scores, key=scores.get)\n",
    "print('Actual text:\\n', text)\n",
    "print('\\nPredicted class:', label)"
   ]
  },
  {
   "cell_type": "code",
   "execution_count": 38,
   "metadata": {},
   "outputs": [
    {
     "name": "stdout",
     "output_type": "stream",
     "text": [
      "[[ 45  28]\n",
      " [ 10 368]]\n",
      "              precision    recall  f1-score   support\n",
      "\n",
      "           0       0.82      0.62      0.70        73\n",
      "           1       0.93      0.97      0.95       378\n",
      "\n",
      "    accuracy                           0.92       451\n",
      "   macro avg       0.87      0.79      0.83       451\n",
      "weighted avg       0.91      0.92      0.91       451\n",
      "\n"
     ]
    }
   ],
   "source": [
    "# Indices in the range 4051-4501 are test data\n",
    "df = alexa_rev.loc[4051:,['stars', 'review']]\n",
    "\n",
    "y_true = df.stars.map(lambda x: 1 if x>3 else 0).values\n",
    "y_pred = [int(max(nlp(rev).cats, key=nlp(rev).cats.get)=='POSITIVE') for rev in df['review']]\n",
    "\n",
    "print(confusion_matrix(y_true, y_pred))\n",
    "print(classification_report(y_true, y_pred))"
   ]
  },
  {
   "cell_type": "markdown",
   "metadata": {},
   "source": [
    "The model has an accuracy of 92%"
   ]
  }
 ],
 "metadata": {
  "interpreter": {
   "hash": "573cf48fd98072e885702c7ae7d411f064c2cf36a1e84379ddd55fc0314ede9c"
  },
  "kernelspec": {
   "display_name": "Python 3.9.0 64-bit ('nlp': conda)",
   "language": "python",
   "name": "python3"
  },
  "language_info": {
   "codemirror_mode": {
    "name": "ipython",
    "version": 3
   },
   "file_extension": ".py",
   "mimetype": "text/x-python",
   "name": "python",
   "nbconvert_exporter": "python",
   "pygments_lexer": "ipython3",
   "version": "3.9.0"
  },
  "orig_nbformat": 4
 },
 "nbformat": 4,
 "nbformat_minor": 2
}
